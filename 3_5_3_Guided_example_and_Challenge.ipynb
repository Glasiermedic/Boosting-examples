{
  "nbformat": 4,
  "nbformat_minor": 0,
  "metadata": {
    "colab": {
      "name": "3.5.3 Guided example and Challenge.ipynb",
      "version": "0.3.2",
      "provenance": [],
      "include_colab_link": true
    },
    "kernelspec": {
      "display_name": "Python 3",
      "language": "python",
      "name": "python3"
    }
  },
  "cells": [
    {
      "cell_type": "markdown",
      "metadata": {
        "id": "view-in-github",
        "colab_type": "text"
      },
      "source": [
        "<a href=\"https://colab.research.google.com/github/Glasiermedic/Boosting-examples/blob/master/3_5_3_Guided_example_and_Challenge.ipynb\" target=\"_parent\"><img src=\"https://colab.research.google.com/assets/colab-badge.svg\" alt=\"Open In Colab\"/></a>"
      ]
    },
    {
      "metadata": {
        "run_control": {
          "frozen": false,
          "read_only": false
        },
        "id": "4fyHpfzVv8pY",
        "colab_type": "code",
        "colab": {}
      },
      "cell_type": "code",
      "source": [
        "import pandas as pd\n",
        "import numpy as np\n",
        "import scipy\n",
        "import matplotlib.pyplot as plt\n",
        "%matplotlib inline\n",
        "\n",
        "from sklearn import ensemble\n",
        "from sklearn import datasets\n",
        "from sklearn.utils import shuffle\n",
        "from sklearn.metrics import mean_squared_error"
      ],
      "execution_count": 0,
      "outputs": []
    },
    {
      "metadata": {
        "id": "fnLZngbtv8pc",
        "colab_type": "text"
      },
      "cell_type": "markdown",
      "source": [
        "### Gradient boost guided example\n",
        "\n",
        "Having walked through gradient boost by hand, now let's try it with SKlearn.  We'll still use the European Social Survey Data, but now with a categorical outcome: Whether or not someone lives with a partner."
      ]
    },
    {
      "metadata": {
        "id": "kUr4mHvdv8pc",
        "colab_type": "code",
        "outputId": "3af5bb25-12d0-45c2-d007-71855c0c8cb1",
        "colab": {
          "base_uri": "https://localhost:8080/",
          "height": 391
        }
      },
      "cell_type": "code",
      "source": [
        "df = pd.read_csv((\n",
        "    \"https://raw.githubusercontent.com/Thinkful-Ed/data-201-resources/\"\n",
        "    \"master/ESS_practice_data/ESSdata_Thinkful.csv\")).dropna()\n",
        "\n",
        "# Definine outcome and predictors.\n",
        "# Set our outcome to 0 and 1.\n",
        "y = df['partner'] - 1\n",
        "X = df.loc[:, ~df.columns.isin(['partner', 'cntry', 'idno'])]\n",
        "print (X.head(10))\n",
        "#X = X.drop(['tvtot', 'pplfair', 'ppltrst', 'sclact', 'pplhlp', 'year'], axis = 1)\n",
        "\n",
        "# Make the categorical variable 'country' into dummies.\n",
        "X = pd.concat([X, pd.get_dummies(df['cntry'])], axis=1)\n",
        "X['people']= (df['ppltrst'] + df['pplfair'] + df['pplhlp'])/3\n",
        "X['school']= (df['sclmeet'] + df['sclact'])/2\n",
        "X = X.drop(['tvtot', 'pplfair', 'ppltrst', 'sclact', 'sclmeet', 'pplhlp', 'year'], axis = 1)\n",
        "X.agea = (X.agea)/10 \n",
        "# Create training and test sets.\n",
        "offset = int(X.shape[0] * 0.9)\n",
        "from sklearn.model_selection import train_test_split\n",
        "\n",
        "X_train, X_test, y_train, y_test = train_test_split(X, y, test_size=0.1, random_state=1)\n",
        "\n",
        "\n",
        "print (X.head(10))\n"
      ],
      "execution_count": 0,
      "outputs": [
        {
          "output_type": "stream",
          "text": [
            "    year  tvtot  ppltrst  pplfair  pplhlp  happy  sclmeet  sclact  gndr  agea\n",
            "0      6    3.0      3.0     10.0     5.0    8.0      5.0     4.0   2.0  60.0\n",
            "1      6    6.0      5.0      7.0     5.0    9.0      3.0     2.0   2.0  59.0\n",
            "2      6    1.0      8.0      8.0     8.0    7.0      6.0     3.0   1.0  24.0\n",
            "3      6    4.0      6.0      6.0     7.0   10.0      6.0     2.0   2.0  64.0\n",
            "4      6    5.0      6.0      7.0     5.0    8.0      7.0     2.0   2.0  55.0\n",
            "6      6    3.0      0.0      5.0     2.0    0.0      2.0     2.0   1.0  76.0\n",
            "7      6    2.0      4.0      5.0     3.0   10.0      5.0     2.0   2.0  30.0\n",
            "8      6    2.0      8.0      8.0     8.0    9.0      6.0     4.0   2.0  84.0\n",
            "9      6    4.0      4.0      4.0     8.0    7.0      4.0     2.0   2.0  62.0\n",
            "10     6    1.0      6.0      7.0     7.0    9.0      5.0     2.0   2.0  33.0\n",
            "    happy  gndr  agea  CH  CZ  DE  ES  NO  SE    people  school\n",
            "0     8.0   2.0   6.0   1   0   0   0   0   0  6.000000     4.5\n",
            "1     9.0   2.0   5.9   1   0   0   0   0   0  5.666667     2.5\n",
            "2     7.0   1.0   2.4   1   0   0   0   0   0  8.000000     4.5\n",
            "3    10.0   2.0   6.4   1   0   0   0   0   0  6.333333     4.0\n",
            "4     8.0   2.0   5.5   1   0   0   0   0   0  6.000000     4.5\n",
            "6     0.0   1.0   7.6   1   0   0   0   0   0  2.333333     2.0\n",
            "7    10.0   2.0   3.0   1   0   0   0   0   0  4.000000     3.5\n",
            "8     9.0   2.0   8.4   1   0   0   0   0   0  8.000000     5.0\n",
            "9     7.0   2.0   6.2   1   0   0   0   0   0  5.333333     3.0\n",
            "10    9.0   2.0   3.3   1   0   0   0   0   0  6.666667     3.5\n"
          ],
          "name": "stdout"
        }
      ]
    },
    {
      "metadata": {
        "id": "vXn0Ymhtv8pf",
        "colab_type": "text"
      },
      "cell_type": "markdown",
      "source": [
        "Since we're now working with a binary outcome, we've switched to a classifier.  Now our loss function can't be the residuals.  Our options are \"deviance\", or \"exponential\".  Deviance is used for logistic regression, and we'll try that here. "
      ]
    },
    {
      "metadata": {
        "id": "t0exrG_Kv8pg",
        "colab_type": "code",
        "outputId": "0eca83b8-45ad-40d9-e23c-96d6f2d9f010",
        "colab": {
          "base_uri": "https://localhost:8080/",
          "height": 136
        }
      },
      "cell_type": "code",
      "source": [
        "# We'll make 500 iterations, use 2-deep trees, and set our loss function.\n",
        "params = {'n_estimators': 1000,\n",
        "          'max_depth': 2,\n",
        "          'loss': 'deviance'}\n",
        "\n",
        "# Initialize and fit the model.\n",
        "clf = ensemble.GradientBoostingClassifier(**params)\n",
        "clf.fit(X_train, y_train)\n",
        "\n",
        "predict_train = clf.predict(X_train)\n",
        "predict_test = clf.predict(X_test)\n",
        "\n",
        "# Accuracy tables.\n",
        "table_train = pd.crosstab(y_train, predict_train, margins=True)\n",
        "table_test = pd.crosstab(y_test, predict_test, margins=True)\n",
        "\n",
        "train_tI_errors = table_train.loc[0.0,1.0] / table_train.loc['All','All']\n",
        "train_tII_errors = table_train.loc[1.0,0.0] / table_train.loc['All','All']\n",
        "\n",
        "test_tI_errors = table_test.loc[0.0,1.0]/table_test.loc['All','All']\n",
        "test_tII_errors = table_test.loc[1.0,0.0]/table_test.loc['All','All']\n",
        "\n",
        "print((\n",
        "    'Training set accuracy:\\n'\n",
        "    'Percent Type I errors: {}\\n'\n",
        "    'Percent Type II errors: {}\\n\\n'\n",
        "    'Test set accuracy:\\n'\n",
        "    'Percent Type I errors: {}\\n'\n",
        "    'Percent Type II errors: {}'\n",
        ").format(train_tI_errors, train_tII_errors, test_tI_errors, test_tII_errors))\n"
      ],
      "execution_count": 0,
      "outputs": [
        {
          "output_type": "stream",
          "text": [
            "Training set accuracy:\n",
            "Percent Type I errors: 0.04582651391162029\n",
            "Percent Type II errors: 0.17757774140752863\n",
            "\n",
            "Test set accuracy:\n",
            "Percent Type I errors: 0.05766871165644172\n",
            "Percent Type II errors: 0.17791411042944785\n"
          ],
          "name": "stdout"
        }
      ]
    },
    {
      "metadata": {
        "id": "eydo4VGvv8pj",
        "colab_type": "text"
      },
      "cell_type": "markdown",
      "source": [
        "### Original accuracy:\n",
        "#### Goal is to get the smallest type I and II errors\n",
        "\n",
        "#### Percent Type I errors: 0.04650845608292417\n",
        "\n",
        "#### Percent Type II errors: 0.17607746863066012\n",
        "\n",
        "#### Test set accuracy:\n",
        "#### Percent Type I errors: 0.06257668711656442\n",
        "\n",
        "#### Percent Type II errors: 0.18527607361963191\n",
        "\n",
        "\n"
      ]
    },
    {
      "metadata": {
        "id": "ycZD68CIBgi1",
        "colab_type": "text"
      },
      "cell_type": "markdown",
      "source": [
        "## Improved Model\n",
        "\n",
        "#### To fine tune the model we increased the number of estimators used, created a 'school' feature by combining the two school features into an average of both.  We also created a 'people' feature by combining the three people features into an average of them all.  \n",
        "\n",
        "#### Training set accuracy:\n",
        "#### Percent Type I errors: 0.04582651391162029\n",
        "#### Percent Type II errors: 0.17757774140752863\n",
        "\n",
        "#### Test set accuracy:\n",
        "#### Percent Type I errors: 0.05766871165644172\n",
        "#### Percent Type II errors: 0.17791411042944785\n",
        "\n"
      ]
    },
    {
      "metadata": {
        "id": "xkMTR1NJv8pk",
        "colab_type": "code",
        "outputId": "1484c803-a79c-4eaf-93d5-11006c6f5227",
        "colab": {
          "base_uri": "https://localhost:8080/",
          "height": 294
        }
      },
      "cell_type": "code",
      "source": [
        "feature_importance = clf.feature_importances_\n",
        "\n",
        "# Make importances relative to max importance.\n",
        "feature_importance = 100.0 * (feature_importance / feature_importance.max())\n",
        "sorted_idx = np.argsort(feature_importance)\n",
        "pos = np.arange(sorted_idx.shape[0]) + .5\n",
        "plt.subplot(1, 2, 2)\n",
        "plt.barh(pos, feature_importance[sorted_idx], align='center')\n",
        "plt.yticks(pos, X.columns[sorted_idx])\n",
        "plt.xlabel('Relative Importance')\n",
        "plt.title('Variable Importance')\n",
        "plt.show()"
      ],
      "execution_count": 0,
      "outputs": [
        {
          "output_type": "display_data",
          "data": {
            "image/png": "[encoded data removed]",
            "text/plain": [
              "<Figure size 432x288 with 1 Axes>"
            ]
          },
          "metadata": {
            "tags": []
          }
        }
      ]
    },
    {
      "metadata": {
        "id": "Xd1D0Hvfv8po",
        "colab_type": "text"
      },
      "cell_type": "markdown",
      "source": [
        "It appears that age and happiness are the most important features in predicting whether or not someone lives with a partner."
      ]
    },
    {
      "metadata": {
        "collapsed": true,
        "id": "ophdwfn9v8pp",
        "colab_type": "text"
      },
      "cell_type": "markdown",
      "source": [
        "### DRILL: Improve this gradient boost model\n",
        "\n",
        "While this model is already doing alright, we've seen from the Type I and Type II error rates that there is definitely room for improvement.  Your task is to see how low you can get the error rates to go in the test set, based on your model in the training set.  Strategies you might use include:\n",
        "\n",
        "* Creating new features\n",
        "* Applying more overfitting-prevention strategies like subsampling\n",
        "* More iterations\n",
        "* Trying a different loss function\n",
        "* Changing the structure of the weak learner: Allowing more leaves in the tree, or other modifications\n",
        "\n",
        "Have fun!"
      ]
    }
  ]
}