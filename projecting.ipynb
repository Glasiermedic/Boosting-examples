{
  "nbformat": 4,
  "nbformat_minor": 0,
  "metadata": {
    "colab": {
      "name": "Untitled20.ipynb",
      "provenance": [],
      "include_colab_link": true
    },
    "kernelspec": {
      "name": "python3",
      "display_name": "Python 3"
    }
  },
  "cells": [
    {
      "cell_type": "markdown",
      "metadata": {
        "id": "view-in-github",
        "colab_type": "text"
      },
      "source": [
        "<a href=\"https://colab.research.google.com/github/Glasiermedic/Boosting-examples/blob/master/projecting.ipynb\" target=\"_parent\"><img src=\"https://colab.research.google.com/assets/colab-badge.svg\" alt=\"Open In Colab\"/></a>"
      ]
    },
    {
      "cell_type": "code",
      "metadata": {
        "id": "FPSKYO9vAb2c",
        "colab_type": "code",
        "colab": {}
      },
      "source": [
        ""
      ],
      "execution_count": 0,
      "outputs": []
    },
    {
      "cell_type": "markdown",
      "metadata": {
        "id": "ZQgPgFRiAeO1",
        "colab_type": "text"
      },
      "source": [
        "Popularity of various Uber drivers. A grocery store wants to know how much people like strawberry, chocolate, and vanilla ice cream. Trojan wants to know whether their condoms are more popular among straight people or gay people. Recently, rental rates for HappyCars have increased by 30%, which is quite unusual. You want to find out why this is happening and how to keep the increase going. Assessing the success rate of a new advertising campaign. Measuring the effect of nurse/patient ratio on patient recovery rates in hospital wards.\n",
        "\n",
        "\n",
        "When dealing with the popularity of various drivers for Uber a survey is one way to collect data about how satisfied drivers are and from that data we can extrapolate who is the highest rated but we cannot assume popularity as clients may not have a ride experience with each driver during the sampling period.  A grocery store survey of icecream flavors is much more effective as it allows the individual to voice their independent opinion about which flavor is their favorite.  You can send out a survey that would reach a representative sample of the population with an equal ratio of self reporting heterosexual and homosexual individuals to determine what their preferred brand is.  I do think that this survey is likely to cause concern in society if not done correctly.  You could send out a survey to all recent and future car buyers asking them what the three major factors of what lead them to pick this rental company and ultimately buy the car.  You can’t really survey the sales/advertising campaign but we can use exploratory data analysis to determine the trends and then turn to predictive analysis for the predictive nature to get a good picture of what the future possibilities may hold.  Again this last example doesn’t really fit into survey.   Surveys are great for identifying a preference or a subjective data. Surveys cannot tell you what the data says through trends, outliers, completeness and so on.   The best option would again be to do a data analysis to get the answers about hospital wards and nurse:patient  ratios and how that is affecting their overall healing. \n",
        "\n"
      ]
    }
  ]
}